{
 "cells": [
  {
   "cell_type": "markdown",
   "id": "dd9e03aa-f553-4987-b388-ea726816cfde",
   "metadata": {},
   "source": [
    "# Coding Competition SQL"
   ]
  },
  {
   "cell_type": "markdown",
   "id": "c2e0d8ff-29ff-40ee-b4f4-1cc111d7a329",
   "metadata": {},
   "source": [
    "### Setup "
   ]
  },
  {
   "cell_type": "markdown",
   "id": "311f9cbc-ac05-4557-80f5-b82585ad91a6",
   "metadata": {},
   "source": [
    "* Create a database called coding competition, and data is located in the `insert_data.sql` file."
   ]
  },
  {
   "cell_type": "markdown",
   "id": "eb8ef2d3-bab2-4d94-8ffd-af498f9058e1",
   "metadata": {},
   "source": [
    "<img src=\"./prompt_3.png\">"
   ]
  },
  {
   "cell_type": "markdown",
   "id": "092c6eb8-cdc6-4b40-b3ce-d8b7cb6f05a0",
   "metadata": {},
   "source": [
    "<img src=\"./prompt_2.png\">"
   ]
  },
  {
   "cell_type": "markdown",
   "id": "07375978-5450-4e54-bedc-c37498eaff7c",
   "metadata": {},
   "source": [
    "<img src=\"./prompt_1.png\" width=\"60%\">"
   ]
  },
  {
   "cell_type": "code",
   "execution_count": null,
   "id": "54b44808-2dc8-47b0-a835-cdafc20b7138",
   "metadata": {},
   "outputs": [],
   "source": []
  }
 ],
 "metadata": {
  "kernelspec": {
   "display_name": "Python 3",
   "language": "python",
   "name": "python3"
  },
  "language_info": {
   "codemirror_mode": {
    "name": "ipython",
    "version": 3
   },
   "file_extension": ".py",
   "mimetype": "text/x-python",
   "name": "python",
   "nbconvert_exporter": "python",
   "pygments_lexer": "ipython3",
   "version": "3.8.8"
  }
 },
 "nbformat": 4,
 "nbformat_minor": 5
}
